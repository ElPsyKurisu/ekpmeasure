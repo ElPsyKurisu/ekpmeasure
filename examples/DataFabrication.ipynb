{
 "cells": [
  {
   "cell_type": "markdown",
   "id": "8edd57c4",
   "metadata": {},
   "source": [
    "### This notebook generates data in `./example_data/dataset1/` and `./example_data/dataset2/`\n",
    "\n",
    "Each file will consist of data (x, y) which is a noisy gaussian distribution, *i.e.,* \n",
    "\n",
    "$y = \\frac{1}{\\sigma \\sqrt{2\\pi}}e^{\\frac{1}{2}\\left(\\frac{x-\\mu}{\\sigma}\\right)^2}$\n",
    "\n",
    "at various simulated temperatures (T). We will enforce $\\mu \\propto T$ and $\\sigma \\propto \\sqrt{T}$. Temperature, T is the meta data of each file."
   ]
  },
  {
   "cell_type": "code",
   "execution_count": 20,
   "id": "5f743611",
   "metadata": {},
   "outputs": [],
   "source": [
    "from ekpy import control\n",
    "\n",
    "import pandas as pd\n",
    "import numpy as np\n",
    "from scipy.stats import norm"
   ]
  },
  {
   "cell_type": "code",
   "execution_count": 73,
   "id": "c35bdace",
   "metadata": {},
   "outputs": [],
   "source": [
    "# a run_function which returns a gaussian curve at centered at mu(temp) with a standard deviation std(temp)\n",
    "# make mu linear dependent on temp\n",
    "# make std be a sqrt function of temp\n",
    "def run_function(temp):\n",
    "    # generate a base_name for the saved file\n",
    "    base_name = '{}K'.format(temp)\n",
    "    \n",
    "    # only meta data is the temperature\n",
    "    meta_data = {'Temperature':temp}\n",
    "    \n",
    "    x = np.linspace(0, 20, 500)\n",
    "    # y is gaussian distribution centered at mu, linearly dependent on temp\n",
    "    y = norm.pdf(x, temp/32.5, np.sqrt(temp/32.5))\n",
    "    # add noise to y\n",
    "    y = y + + (np.random.rand(len(x))-0.5)/10\n",
    "                \n",
    "    df = pd.DataFrame({'x':x, 'y':y})\n",
    "    return base_name, meta_data, df"
   ]
  },
  {
   "cell_type": "code",
   "execution_count": 74,
   "id": "927185a9",
   "metadata": {},
   "outputs": [],
   "source": [
    "# create a basic experiment to generate fabricated data\n",
    "class exp(control.experiment):\n",
    "    def __init__(self, run_function=run_function):\n",
    "        super().__init__(run_function)\n",
    "        \n",
    "    def terminate(self, *args, **kwargs):\n",
    "        pass"
   ]
  },
  {
   "cell_type": "code",
   "execution_count": 80,
   "id": "22dceb18",
   "metadata": {},
   "outputs": [],
   "source": [
    "e = exp()\n",
    "e.config_path('./example_data/dataset1/')\n",
    "e.n_param_scan({'temp':np.arange(50, 325, 25)}, {}, ['temp'], ntrials=1)"
   ]
  },
  {
   "cell_type": "code",
   "execution_count": null,
   "id": "40f8278f",
   "metadata": {},
   "outputs": [],
   "source": [
    "e = exp()\n",
    "e.config_path('./example_data/dataset2/')\n",
    "e.n_param_scan({'temp':np.arange(50, 325, 25)}, {}, ['temp'], ntrials=2)"
   ]
  }
 ],
 "metadata": {
  "kernelspec": {
   "display_name": "Python 3",
   "language": "python",
   "name": "python3"
  },
  "language_info": {
   "codemirror_mode": {
    "name": "ipython",
    "version": 3
   },
   "file_extension": ".py",
   "mimetype": "text/x-python",
   "name": "python",
   "nbconvert_exporter": "python",
   "pygments_lexer": "ipython3",
   "version": "3.8.5"
  }
 },
 "nbformat": 4,
 "nbformat_minor": 5
}
