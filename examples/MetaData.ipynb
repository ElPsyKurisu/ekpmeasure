{
 "cells": [
  {
   "cell_type": "markdown",
   "id": "b24f2ed6",
   "metadata": {},
   "source": [
    "# Getting Started with ekpy Part I\n",
    "\n",
    "### Meta Data "
   ]
  },
  {
   "cell_type": "code",
   "execution_count": 6,
   "id": "8ccaf7d7",
   "metadata": {},
   "outputs": [],
   "source": [
    "from ekpy import analysis"
   ]
  },
  {
   "cell_type": "code",
   "execution_count": 7,
   "id": "f8302398",
   "metadata": {},
   "outputs": [],
   "source": [
    "path = './example_data/dataset1/'\n",
    "filename = '100K_0.csv'"
   ]
  },
  {
   "cell_type": "code",
   "execution_count": null,
   "id": "b4c79821",
   "metadata": {},
   "outputs": [],
   "source": [
    "analysis.generate_meta_data(path)"
   ]
  },
  {
   "cell_type": "code",
   "execution_count": 9,
   "id": "7b165420",
   "metadata": {},
   "outputs": [
    {
     "data": {
      "text/plain": [
       "{'Temperature': '100K', 'trial': '0', 'filename': '100K_0.csv'}"
      ]
     },
     "execution_count": 9,
     "metadata": {},
     "output_type": "execute_result"
    }
   ],
   "source": [
    "temp, trial = filename.replace('.csv', '').split('_')\n",
    "meta_data = {'Temperature':temp, 'trial':trial, 'filename':filename}\n",
    "meta_data"
   ]
  },
  {
   "cell_type": "code",
   "execution_count": 10,
   "id": "d27b1446",
   "metadata": {},
   "outputs": [],
   "source": [
    "def mapper(filename):    \n",
    "    temp, trial = filename.replace('.csv', '').split('_')\n",
    "    meta_data = {'Temperature':temp, 'trial':trial, 'filename':filename}\n",
    "    return meta_data"
   ]
  },
  {
   "cell_type": "code",
   "execution_count": 11,
   "id": "baac6ea1",
   "metadata": {},
   "outputs": [
    {
     "data": {
      "text/plain": [
       "{'Temperature': '100K', 'trial': '0', 'filename': '100K_0.csv'}"
      ]
     },
     "execution_count": 11,
     "metadata": {},
     "output_type": "execute_result"
    }
   ],
   "source": [
    "mapper(filename)"
   ]
  },
  {
   "cell_type": "code",
   "execution_count": 12,
   "id": "ff0e0696",
   "metadata": {},
   "outputs": [
    {
     "name": "stdout",
     "output_type": "stream",
     "text": [
      "meta_data.csv saved to \"./example_data/dataset1/\"\n"
     ]
    }
   ],
   "source": [
    "analysis.generate_meta_data(path, mapper)"
   ]
  },
  {
   "cell_type": "code",
   "execution_count": 13,
   "id": "8175600b",
   "metadata": {},
   "outputs": [],
   "source": [
    "dset = analysis.load_Dataset(path)"
   ]
  },
  {
   "cell_type": "code",
   "execution_count": 15,
   "id": "47522b49",
   "metadata": {},
   "outputs": [
    {
     "data": {
      "text/html": [
       "<div>\n",
       "<style scoped>\n",
       "    .dataframe tbody tr th:only-of-type {\n",
       "        vertical-align: middle;\n",
       "    }\n",
       "\n",
       "    .dataframe tbody tr th {\n",
       "        vertical-align: top;\n",
       "    }\n",
       "\n",
       "    .dataframe thead th {\n",
       "        text-align: right;\n",
       "    }\n",
       "</style>\n",
       "<table border=\"1\" class=\"dataframe\">\n",
       "  <thead>\n",
       "    <tr style=\"text-align: right;\">\n",
       "      <th></th>\n",
       "      <th>Temperature</th>\n",
       "      <th>trial</th>\n",
       "      <th>filename</th>\n",
       "    </tr>\n",
       "  </thead>\n",
       "  <tbody>\n",
       "    <tr>\n",
       "      <th>0</th>\n",
       "      <td>100K</td>\n",
       "      <td>0</td>\n",
       "      <td>100K_0.csv</td>\n",
       "    </tr>\n",
       "  </tbody>\n",
       "</table>\n",
       "</div>"
      ],
      "text/plain": [
       "  Temperature  trial    filename\n",
       "0        100K      0  100K_0.csv"
      ]
     },
     "execution_count": 15,
     "metadata": {},
     "output_type": "execute_result"
    }
   ],
   "source": [
    "dset.query('Temperature == \"100K\"')"
   ]
  },
  {
   "cell_type": "code",
   "execution_count": 16,
   "id": "353fed40",
   "metadata": {},
   "outputs": [],
   "source": [
    "path = './example_data/dataset1/'\n",
    "filename = '100K_0.csv'"
   ]
  },
  {
   "cell_type": "code",
   "execution_count": 23,
   "id": "88c4847c",
   "metadata": {},
   "outputs": [],
   "source": [
    "with open(path+filename, 'r') as f:\n",
    "    lines = f.readlines()\n",
    "    \n",
    "meta_data = {}\n",
    "\n",
    "for line in lines[1:4]:\n",
    "    spl = line.replace('\\n', '').split(':::')\n",
    "    meta_data.update({spl[0]:spl[1]})"
   ]
  },
  {
   "cell_type": "code",
   "execution_count": 24,
   "id": "22c78412",
   "metadata": {},
   "outputs": [
    {
     "data": {
      "text/plain": [
       "{'Temperature': '100', 'trial': '0', 'filename': '100K_0.csv'}"
      ]
     },
     "execution_count": 24,
     "metadata": {},
     "output_type": "execute_result"
    }
   ],
   "source": [
    "meta_data"
   ]
  },
  {
   "cell_type": "code",
   "execution_count": 25,
   "id": "045e06f4",
   "metadata": {},
   "outputs": [],
   "source": [
    "def mapper2(filename, path) -> 'dict':\n",
    "    with open(path+filename, 'r') as f:\n",
    "        lines = f.readlines()\n",
    "\n",
    "    meta_data = {}\n",
    "\n",
    "    for line in lines[1:4]:\n",
    "        spl = line.replace('\\n', '').split(':::')\n",
    "        meta_data.update({spl[0]:spl[1]})\n",
    "        \n",
    "    return meta_data"
   ]
  },
  {
   "cell_type": "code",
   "execution_count": 27,
   "id": "13e587c3",
   "metadata": {},
   "outputs": [
    {
     "name": "stdin",
     "output_type": "stream",
     "text": [
      "this path (./example_data/dataset1/) already has meta_data.csv, do you wish to recreate it? (y/n) y\n"
     ]
    },
    {
     "name": "stdout",
     "output_type": "stream",
     "text": [
      "overwriting.\n",
      "unable to process file: .ipynb_checkpoints \n",
      "Error: [Errno 13] Permission denied: './example_data/dataset1/.ipynb_checkpoints'\n",
      "unable to process file: meta_data.csv \n",
      "Error: list index out of range\n",
      "meta_data.csv saved to \"./example_data/dataset1/\"\n"
     ]
    }
   ],
   "source": [
    "analysis.generate_meta_data(path, mapper2, pass_path=True)"
   ]
  },
  {
   "cell_type": "code",
   "execution_count": null,
   "id": "06c67138",
   "metadata": {},
   "outputs": [],
   "source": []
  }
 ],
 "metadata": {
  "kernelspec": {
   "display_name": "Python 3",
   "language": "python",
   "name": "python3"
  },
  "language_info": {
   "codemirror_mode": {
    "name": "ipython",
    "version": 3
   },
   "file_extension": ".py",
   "mimetype": "text/x-python",
   "name": "python",
   "nbconvert_exporter": "python",
   "pygments_lexer": "ipython3",
   "version": "3.8.5"
  }
 },
 "nbformat": 4,
 "nbformat_minor": 5
}
