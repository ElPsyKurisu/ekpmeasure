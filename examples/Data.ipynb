{
 "cells": [
  {
   "cell_type": "markdown",
   "id": "e23abc87",
   "metadata": {},
   "source": [
    "# This notebook serves as an introduction to the `analysis.core.data` class\n",
    "\n",
    "I will cover: \n",
    "\n",
    "1. Structure\n",
    "2. Functions and Attributes\n",
    "3. Grouped Data"
   ]
  },
  {
   "cell_type": "code",
   "execution_count": 2,
   "id": "24633957",
   "metadata": {},
   "outputs": [],
   "source": [
    "from ekpy import analysis\n",
    "\n",
    "import numpy as np"
   ]
  },
  {
   "cell_type": "markdown",
   "id": "af67a604",
   "metadata": {},
   "source": [
    "## 1. Structure"
   ]
  },
  {
   "cell_type": "markdown",
   "id": "f8304aff",
   "metadata": {},
   "source": [
    "The `data` class can be most easily thought of as a class of nested dicts.\n",
    "\n",
    "To understand why, we must understand the motivation. The most important motivator is that we wish to have a easy way of accessing data, and its associated meta data, quickly. Let's envision how we might do this using dicts:"
   ]
  },
  {
   "cell_type": "code",
   "execution_count": 3,
   "id": "0dd5857a",
   "metadata": {},
   "outputs": [],
   "source": [
    "# define data\n",
    "x = np.arange(0,11,1)\n",
    "y = x**2\n",
    "\n",
    "# dict holding our data\n",
    "data_dict = {'x':x, 'y':y}\n",
    "\n",
    "# define associated meta data (some fake meta data variable, concentration)\n",
    "meta_data_dict = {'concentration':{50}}"
   ]
  },
  {
   "cell_type": "markdown",
   "id": "1e7d5a8b",
   "metadata": {},
   "source": [
    "We want to group `data_dict` and `meta_data_dict` together to associate them with one another. A straightforward way to do so is by grouping them in (another) dict, let's call it `data_definition_dict` since it combines the data_dict and definition (meta_data)"
   ]
  },
  {
   "cell_type": "code",
   "execution_count": 42,
   "id": "4764b630",
   "metadata": {},
   "outputs": [],
   "source": [
    "data_definition_dict = {'data':data_dict, 'definition':meta_data_dict}"
   ]
  },
  {
   "cell_type": "markdown",
   "id": "b542fda8",
   "metadata": {},
   "source": [
    "Now, imagine we have many such data_definition dicts, we need to keep them separate, so let's simply give it an index (0) in yet another dict (called `_dict`)"
   ]
  },
  {
   "cell_type": "code",
   "execution_count": 43,
   "id": "41e0b89e",
   "metadata": {},
   "outputs": [],
   "source": [
    "_dict = {0: data_definition_dict}"
   ]
  },
  {
   "cell_type": "markdown",
   "id": "2ebfe796",
   "metadata": {},
   "source": [
    "`_dict` is the basic form of the `Data` class. It can be thought of as nested dicts, which holds a collection of a bunch of `data_definition_dict`, which can be accessed by a unique index. Let's turn `_dict` into an instance of `Data` "
   ]
  },
  {
   "cell_type": "code",
   "execution_count": 44,
   "id": "4f5b06cd",
   "metadata": {},
   "outputs": [],
   "source": [
    "data = analysis.Data(_dict)"
   ]
  },
  {
   "cell_type": "code",
   "execution_count": 45,
   "id": "8711c817",
   "metadata": {},
   "outputs": [
    {
     "data": {
      "text/plain": [
       "{0: {'data': {'x': array([ 0,  1,  2,  3,  4,  5,  6,  7,  8,  9, 10]),\n",
       "              'y': array([  0,   1,   4,   9,  16,  25,  36,  49,  64,  81, 100], dtype=int32)},\n",
       "     'definition': {'concentration': {50}}}}"
      ]
     },
     "execution_count": 45,
     "metadata": {},
     "output_type": "execute_result"
    }
   ],
   "source": [
    "# data consists of a single key (0) which holds data and definition as defined above\n",
    "data"
   ]
  },
  {
   "cell_type": "code",
   "execution_count": 46,
   "id": "31247505",
   "metadata": {},
   "outputs": [
    {
     "data": {
      "text/plain": [
       "{'x': array([ 0,  1,  2,  3,  4,  5,  6,  7,  8,  9, 10]),\n",
       " 'y': array([  0,   1,   4,   9,  16,  25,  36,  49,  64,  81, 100], dtype=int32)}"
      ]
     },
     "execution_count": 46,
     "metadata": {},
     "output_type": "execute_result"
    }
   ],
   "source": [
    "# since data has only one index, we can return the data_dict easily\n",
    "data.data"
   ]
  },
  {
   "cell_type": "code",
   "execution_count": 47,
   "id": "d14e1651",
   "metadata": {},
   "outputs": [
    {
     "data": {
      "text/plain": [
       "{'concentration': {50}}"
      ]
     },
     "execution_count": 47,
     "metadata": {},
     "output_type": "execute_result"
    }
   ],
   "source": [
    "# and similar for the definition dict\n",
    "data.definition"
   ]
  },
  {
   "cell_type": "code",
   "execution_count": 48,
   "id": "e3932040",
   "metadata": {},
   "outputs": [],
   "source": [
    "# let's add some more data\n",
    "x = np.arange(0,11,1)\n",
    "# ^3 instead of ^2 as done previously \n",
    "y = x**3\n",
    "\n",
    "# dict holding our data\n",
    "data_dict_2 = {'x':x, 'y':y}\n",
    "\n",
    "# new concentration\n",
    "meta_data_dict_2 = {'concentration':{20}}\n",
    "data_definition_dict_2 = {'data':data_dict_2, 'definition':meta_data_dict_2}"
   ]
  },
  {
   "cell_type": "code",
   "execution_count": 49,
   "id": "49723dfc",
   "metadata": {},
   "outputs": [],
   "source": [
    "_dict = {0: data_definition_dict, 1: data_definition_dict_2}\n",
    "data = analysis.Data(_dict)"
   ]
  },
  {
   "cell_type": "code",
   "execution_count": 50,
   "id": "123687a8",
   "metadata": {},
   "outputs": [
    {
     "data": {
      "text/plain": [
       "{0: {'x': array([ 0,  1,  2,  3,  4,  5,  6,  7,  8,  9, 10]),\n",
       "  'y': array([  0,   1,   4,   9,  16,  25,  36,  49,  64,  81, 100], dtype=int32)},\n",
       " 1: {'x': array([ 0,  1,  2,  3,  4,  5,  6,  7,  8,  9, 10]),\n",
       "  'y': array([   0,    1,    8,   27,   64,  125,  216,  343,  512,  729, 1000],\n",
       "        dtype=int32)}}"
      ]
     },
     "execution_count": 50,
     "metadata": {},
     "output_type": "execute_result"
    }
   ],
   "source": [
    "# now if we look at data.data, since we now have two indices, we will return a dict of <index, data_dict>\n",
    "data.data"
   ]
  },
  {
   "cell_type": "code",
   "execution_count": 51,
   "id": "c5171c54",
   "metadata": {},
   "outputs": [
    {
     "data": {
      "text/plain": [
       "{0: {'concentration': {50}}, 1: {'concentration': {20}}}"
      ]
     },
     "execution_count": 51,
     "metadata": {},
     "output_type": "execute_result"
    }
   ],
   "source": [
    "data.definition"
   ]
  },
  {
   "cell_type": "markdown",
   "id": "647884d1",
   "metadata": {},
   "source": [
    "## 2. Functions and Attributes"
   ]
  },
  {
   "cell_type": "code",
   "execution_count": 84,
   "id": "55e99fc6",
   "metadata": {},
   "outputs": [],
   "source": [
    "_dict = {0: data_definition_dict, 1: data_definition_dict_2}\n",
    "data = analysis.Data(_dict)"
   ]
  },
  {
   "cell_type": "markdown",
   "id": "0fe45943",
   "metadata": {},
   "source": [
    "### Summarizing data with `.summary`"
   ]
  },
  {
   "cell_type": "code",
   "execution_count": 85,
   "id": "4134d404",
   "metadata": {},
   "outputs": [
    {
     "data": {
      "text/plain": [
       "{'concentration': {20, 50}}"
      ]
     },
     "execution_count": 85,
     "metadata": {},
     "output_type": "execute_result"
    }
   ],
   "source": [
    "data.summary"
   ]
  },
  {
   "cell_type": "markdown",
   "id": "e73218cf",
   "metadata": {},
   "source": [
    "### We can access specific indices using `.iloc`"
   ]
  },
  {
   "cell_type": "code",
   "execution_count": 52,
   "id": "bacb605a",
   "metadata": {},
   "outputs": [
    {
     "data": {
      "text/plain": [
       "{0: {'data': {'x': array([ 0,  1,  2,  3,  4,  5,  6,  7,  8,  9, 10]),\n",
       "              'y': array([  0,   1,   4,   9,  16,  25,  36,  49,  64,  81, 100], dtype=int32)},\n",
       "     'definition': {'concentration': {50}}}}"
      ]
     },
     "execution_count": 52,
     "metadata": {},
     "output_type": "execute_result"
    }
   ],
   "source": [
    "data.iloc[0]"
   ]
  },
  {
   "cell_type": "code",
   "execution_count": 53,
   "id": "dc3dbfd4",
   "metadata": {},
   "outputs": [
    {
     "data": {
      "text/plain": [
       "{'x': array([ 0,  1,  2,  3,  4,  5,  6,  7,  8,  9, 10]),\n",
       " 'y': array([  0,   1,   4,   9,  16,  25,  36,  49,  64,  81, 100], dtype=int32)}"
      ]
     },
     "execution_count": 53,
     "metadata": {},
     "output_type": "execute_result"
    }
   ],
   "source": [
    "# get the data_dict for the first index\n",
    "data.iloc[0].data"
   ]
  },
  {
   "cell_type": "code",
   "execution_count": 54,
   "id": "0e093d19",
   "metadata": {},
   "outputs": [
    {
     "data": {
      "text/plain": [
       "{'concentration': {50}}"
      ]
     },
     "execution_count": 54,
     "metadata": {},
     "output_type": "execute_result"
    }
   ],
   "source": [
    "# get the definition_dict for the first index\n",
    "data.iloc[0].definition"
   ]
  },
  {
   "cell_type": "markdown",
   "id": "d1269290",
   "metadata": {},
   "source": [
    "### Plotting using `.plot`\n",
    "\n",
    "- Plot real data\n",
    "- Each index will be it's own color in the plot, unless otherwise specified"
   ]
  },
  {
   "cell_type": "code",
   "execution_count": 56,
   "id": "65d9b8f1",
   "metadata": {},
   "outputs": [
    {
     "data": {
      "text/plain": [
       "(<Figure size 432x288 with 1 Axes>, <AxesSubplot:>)"
      ]
     },
     "execution_count": 56,
     "metadata": {},
     "output_type": "execute_result"
    },
    {
     "data": {
      "image/png": "[encoded data removed]",
      "text/plain": [
       "<Figure size 432x288 with 1 Axes>"
      ]
     },
     "metadata": {
      "needs_background": "light"
     },
     "output_type": "display_data"
    }
   ],
   "source": [
    "data.plot(x='x')"
   ]
  },
  {
   "cell_type": "code",
   "execution_count": 57,
   "id": "38a9ab59",
   "metadata": {},
   "outputs": [
    {
     "data": {
      "text/plain": [
       "(<Figure size 432x288 with 1 Axes>, <AxesSubplot:>)"
      ]
     },
     "execution_count": 57,
     "metadata": {},
     "output_type": "execute_result"
    },
    {
     "data": {
      "image/png": "[encoded data removed]",
      "text/plain": [
       "<Figure size 432x288 with 1 Axes>"
      ]
     },
     "metadata": {
      "needs_background": "light"
     },
     "output_type": "display_data"
    }
   ],
   "source": [
    "data.plot(x='x', labelby='concentration')"
   ]
  },
  {
   "cell_type": "markdown",
   "id": "58965fa0",
   "metadata": {},
   "source": [
    "### Operating on data using `.apply`\n",
    "\n",
    "`Data.apply(func)` will pass the data_dict corresponding to each index to `func`. `func` must return a `dict` corresponding to a data_dict"
   ]
  },
  {
   "cell_type": "code",
   "execution_count": 59,
   "id": "3145ffbd",
   "metadata": {},
   "outputs": [],
   "source": [
    "# define a function that takes a data_dict with keys 'x' and 'y' and takes the derivative of y with respect to 'x'\n",
    "# returns a dict with a two keys 'x' and 'grady' corresponding to 'x' and derivative of y\n",
    "def func(data_dict) -> 'dict':\n",
    "    x, y = data_dict['x'], data_dict['y']\n",
    "    grady = np.gradient(y, x)\n",
    "    return {'x': x, 'grady':grady}"
   ]
  },
  {
   "cell_type": "markdown",
   "id": "e5782908",
   "metadata": {},
   "source": [
    "Let's run func on a specific data_dict (the data dict of index 0 in our data)"
   ]
  },
  {
   "cell_type": "code",
   "execution_count": 61,
   "id": "e3a7467c",
   "metadata": {},
   "outputs": [
    {
     "data": {
      "text/plain": [
       "{'x': array([ 0,  1,  2,  3,  4,  5,  6,  7,  8,  9, 10]),\n",
       " 'grady': array([ 1.,  2.,  4.,  6.,  8., 10., 12., 14., 16., 18., 19.])}"
      ]
     },
     "execution_count": 61,
     "metadata": {},
     "output_type": "execute_result"
    }
   ],
   "source": [
    "# get the first index data_dict\n",
    "data_dict = data.iloc[0].data\n",
    "func(data_dict)"
   ]
  },
  {
   "cell_type": "code",
   "execution_count": 62,
   "id": "8398d077",
   "metadata": {},
   "outputs": [
    {
     "data": {
      "text/plain": [
       "{0: {'data': {'grady': array([ 1.,  2.,  4.,  6.,  8., 10., 12., 14., 16., 18., 19.]),\n",
       "              'x': array([ 0,  1,  2,  3,  4,  5,  6,  7,  8,  9, 10])},\n",
       "     'definition': {'concentration': {50}}}}"
      ]
     },
     "execution_count": 62,
     "metadata": {},
     "output_type": "execute_result"
    }
   ],
   "source": [
    "# now we can apply this function using .apply!\n",
    "data.iloc[0].apply(func)"
   ]
  },
  {
   "cell_type": "code",
   "execution_count": 64,
   "id": "8cb7315f",
   "metadata": {},
   "outputs": [
    {
     "data": {
      "text/plain": [
       "(<Figure size 432x288 with 1 Axes>, <AxesSubplot:>)"
      ]
     },
     "execution_count": 64,
     "metadata": {},
     "output_type": "execute_result"
    },
    {
     "data": {
      "image/png": "[encoded data removed]",
      "text/plain": [
       "<Figure size 432x288 with 1 Axes>"
      ]
     },
     "metadata": {
      "needs_background": "light"
     },
     "output_type": "display_data"
    }
   ],
   "source": [
    "# plotting\n",
    "data.iloc[0].apply(func).plot(x='x')\n",
    "\n",
    "# (recall derivative of x^2 is linear)"
   ]
  },
  {
   "cell_type": "code",
   "execution_count": 66,
   "id": "bb7439a7",
   "metadata": {},
   "outputs": [
    {
     "data": {
      "text/plain": [
       "(<Figure size 432x288 with 1 Axes>, <AxesSubplot:>)"
      ]
     },
     "execution_count": 66,
     "metadata": {},
     "output_type": "execute_result"
    },
    {
     "data": {
      "image/png": "[encoded data removed]",
      "text/plain": [
       "<Figure size 432x288 with 1 Axes>"
      ]
     },
     "metadata": {
      "needs_background": "light"
     },
     "output_type": "display_data"
    }
   ],
   "source": [
    "# apply to all indices in data and plot\n",
    "data.apply(func).plot(x='x')"
   ]
  },
  {
   "cell_type": "markdown",
   "id": "8afcc516",
   "metadata": {},
   "source": [
    "##### kwargs\n",
    "\n",
    "You may want to pass kwargs to `func` in `data.apply`. These are passed directly in the `.apply` call"
   ]
  },
  {
   "cell_type": "code",
   "execution_count": 67,
   "id": "c51579c9",
   "metadata": {},
   "outputs": [],
   "source": [
    "# a function that raises our data to a specified power\n",
    "def power(data_dict, power)->'dict':\n",
    "    return {'x': x, 'y_power':data_dict['y']**power}"
   ]
  },
  {
   "cell_type": "code",
   "execution_count": 70,
   "id": "36552056",
   "metadata": {},
   "outputs": [
    {
     "data": {
      "text/plain": [
       "(<Figure size 432x288 with 1 Axes>, <AxesSubplot:>)"
      ]
     },
     "execution_count": 70,
     "metadata": {},
     "output_type": "execute_result"
    },
    {
     "data": {
      "image/png": "[encoded data removed]",
      "text/plain": [
       "<Figure size 432x288 with 1 Axes>"
      ]
     },
     "metadata": {
      "needs_background": "light"
     },
     "output_type": "display_data"
    }
   ],
   "source": [
    "data.apply(power, power=0.2).plot(x='x')"
   ]
  },
  {
   "cell_type": "markdown",
   "id": "faeae582",
   "metadata": {},
   "source": [
    "##### Using definition (meta data) values in your function in `.apply`\n",
    "\n",
    "You may wish to pass a definition (meta data) value to your function. These are passed as kwargs as follows:\n",
    "\n",
    "- **Note**: when defining the function to be used in `.apply`, ensure it has kwarg corresponding to the required definition key.\n",
    "- **Note**: definition_dicts consist of <key:set>, meaning the value in the key, value pair is of type `set` (this is done so that you can easily group data). You will likely want to implement some sort of check to ensure you pass the correct number of values when performing `.apply` (see comment in `conc_add` below.\n",
    "- **Bonus Note**: it is generally a good idea, to allow for such functions to deal with arbitrary kwargs (*i.e.,* `**kwargs` in the definition declaration) in case the definition dict contains many keys"
   ]
  },
  {
   "cell_type": "code",
   "execution_count": 79,
   "id": "bbc3ea4b",
   "metadata": {},
   "outputs": [],
   "source": [
    "# a function that adds the 10x'concentration' value to 'y'\n",
    "\n",
    "def conc_add(data_dict, concentration:'set', **kwargs) -> 'dict':\n",
    "    # 'concentration' will be passed from the definition_dict and will therefore be a set\n",
    "    # ensure that the kwarg 'concentration' has only one element in the set.\n",
    "    \n",
    "    if len(concentration)!=1:\n",
    "        raise ValueError('More than one concentration passed from definition')\n",
    "    \n",
    "    # convert concentration to a number by taking the first element of the set\n",
    "    concentration = list(concentration)[0]\n",
    "    \n",
    "    return {'x':data_dict['x'], 'y':data_dict['y']+10*concentration}"
   ]
  },
  {
   "cell_type": "markdown",
   "id": "f6a9ec67",
   "metadata": {},
   "source": [
    "- To pass definition, use the kwarg `pass_defn=True` in `.apply`"
   ]
  },
  {
   "cell_type": "code",
   "execution_count": 81,
   "id": "193f2f55",
   "metadata": {},
   "outputs": [
    {
     "data": {
      "text/plain": [
       "(<Figure size 432x288 with 1 Axes>, <AxesSubplot:>)"
      ]
     },
     "execution_count": 81,
     "metadata": {},
     "output_type": "execute_result"
    },
    {
     "data": {
      "image/png": "[encoded data removed]",
      "text/plain": [
       "<Figure size 432x288 with 1 Axes>"
      ]
     },
     "metadata": {
      "needs_background": "light"
     },
     "output_type": "display_data"
    }
   ],
   "source": [
    "data.apply(conc_add, pass_defn=True).plot(x='x', labelby='concentration')"
   ]
  },
  {
   "cell_type": "markdown",
   "id": "d0e65e8e",
   "metadata": {},
   "source": [
    "### 3. Grouped data\n",
    "\n",
    "- Grouped data allows you to group by defition"
   ]
  },
  {
   "cell_type": "markdown",
   "id": "788b709b",
   "metadata": {},
   "source": [
    "Let's see how this changes the structure. I will create a `Data` class with three indices to start, two correspond two trails of a 'concentration' of 10 and one trial with a 'concentration' of 20"
   ]
  },
  {
   "cell_type": "markdown",
   "id": "65cd8426",
   "metadata": {},
   "source": [
    "##### Structure"
   ]
  },
  {
   "cell_type": "code",
   "execution_count": 3,
   "id": "61e618fa",
   "metadata": {},
   "outputs": [],
   "source": [
    "_dict = {\n",
    "    0: {\n",
    "        'data':{'x':np.array([0,0,0])},\n",
    "        'definition':{'concentration':{10}, 'trial':{0}} \n",
    "    },\n",
    "    \n",
    "    1: {\n",
    "        'data':{'x':np.array([1,1,1])},\n",
    "        'definition':{'concentration':{10}, 'trial':{1}}\n",
    "    },\n",
    "    \n",
    "    2: {\n",
    "        'data':{'x':np.array([2,2,2])},\n",
    "        'definition':{'concentration':{20}, 'trial':{0}}\n",
    "    }\n",
    "}\n",
    "data = analysis.Data(_dict)"
   ]
  },
  {
   "cell_type": "code",
   "execution_count": 4,
   "id": "1407eb0f",
   "metadata": {},
   "outputs": [
    {
     "data": {
      "text/plain": [
       "{0: {'concentration': {10}, 'trial': {0}},\n",
       " 1: {'concentration': {10}, 'trial': {1}},\n",
       " 2: {'concentration': {20}, 'trial': {0}}}"
      ]
     },
     "execution_count": 4,
     "metadata": {},
     "output_type": "execute_result"
    }
   ],
   "source": [
    "# looking at the definition_dict alone we see we have three indices\n",
    "data.definition"
   ]
  },
  {
   "cell_type": "markdown",
   "id": "63af4aaa",
   "metadata": {},
   "source": [
    "Group the data on concentration"
   ]
  },
  {
   "cell_type": "code",
   "execution_count": 5,
   "id": "80cb25d2",
   "metadata": {},
   "outputs": [
    {
     "data": {
      "text/plain": [
       "{0: {'concentration': {10}, 'trial': {0, 1}},\n",
       " 1: {'concentration': {20}, 'trial': {0}}}"
      ]
     },
     "execution_count": 5,
     "metadata": {},
     "output_type": "execute_result"
    }
   ],
   "source": [
    "# we next group on concentration which will effectively combine trials 0 and 1 for concentration of 10.\n",
    "# how does the definition dict change?\n",
    "grouped_data = data.groupby('concentration')\n",
    "grouped_data.definition"
   ]
  },
  {
   "cell_type": "markdown",
   "id": "2236f946",
   "metadata": {},
   "source": [
    "Now there are only two indices, and index 0 has two trials in it\n",
    "\n",
    "What about the data_dict?"
   ]
  },
  {
   "cell_type": "code",
   "execution_count": 6,
   "id": "8f9dfda2",
   "metadata": {},
   "outputs": [
    {
     "data": {
      "text/plain": [
       "{0: {'x': array([[0, 0, 0],\n",
       "         [1, 1, 1]])},\n",
       " 1: {'x': array([2, 2, 2])}}"
      ]
     },
     "execution_count": 6,
     "metadata": {},
     "output_type": "execute_result"
    }
   ],
   "source": [
    "grouped_data.data"
   ]
  },
  {
   "cell_type": "markdown",
   "id": "1fa03b71",
   "metadata": {},
   "source": [
    "You'll notice that now index 0 has a stack of data corresponding to the different trials"
   ]
  },
  {
   "cell_type": "markdown",
   "id": "df653059",
   "metadata": {},
   "source": [
    "#### Plotting and operating on grouped data"
   ]
  },
  {
   "cell_type": "markdown",
   "id": "fd697052",
   "metadata": {},
   "source": [
    "1. Plotting\n",
    " - Each data array in the stack for each index is plotted independently from the others data arrays, though all data corresponding to the same definition is colored the same color"
   ]
  },
  {
   "cell_type": "code",
   "execution_count": 7,
   "id": "35e08ab5",
   "metadata": {},
   "outputs": [
    {
     "data": {
      "text/plain": [
       "(<Figure size 432x288 with 1 Axes>, <AxesSubplot:>)"
      ]
     },
     "execution_count": 7,
     "metadata": {},
     "output_type": "execute_result"
    },
    {
     "data": {
      "image/png": "[encoded data removed]",
      "text/plain": [
       "<Figure size 432x288 with 1 Axes>"
      ]
     },
     "metadata": {
      "needs_background": "light"
     },
     "output_type": "display_data"
    }
   ],
   "source": [
    "grouped_data.plot(y='x', linewidth=5)"
   ]
  },
  {
   "cell_type": "markdown",
   "id": "28397927",
   "metadata": {},
   "source": [
    "2. Averaging across grouped data (`.mean()`)\n",
    "\n",
    "Now that we have two trials grouped together, we may want to take the average. We can do this by using `.mean()`: "
   ]
  },
  {
   "cell_type": "code",
   "execution_count": 8,
   "id": "02663204",
   "metadata": {},
   "outputs": [
    {
     "data": {
      "text/plain": [
       "(<Figure size 432x288 with 1 Axes>, <AxesSubplot:>)"
      ]
     },
     "execution_count": 8,
     "metadata": {},
     "output_type": "execute_result"
    },
    {
     "data": {
      "image/png": "[encoded data removed]",
      "text/plain": [
       "<Figure size 432x288 with 1 Axes>"
      ]
     },
     "metadata": {
      "needs_background": "light"
     },
     "output_type": "display_data"
    }
   ],
   "source": [
    "grouped_data.mean().plot(y='x', linewidth=5)"
   ]
  },
  {
   "cell_type": "markdown",
   "id": "196e9b35",
   "metadata": {},
   "source": [
    "You'll notice that now we have only two lines, as opposed to three, since the grouped data is now averaged across trials"
   ]
  },
  {
   "cell_type": "markdown",
   "id": "3690f0da",
   "metadata": {},
   "source": [
    "**more fun with `.mean`**"
   ]
  },
  {
   "cell_type": "code",
   "execution_count": 13,
   "id": "516456fd",
   "metadata": {},
   "outputs": [
    {
     "data": {
      "text/plain": [
       "{0: {'data': {'x': array([0.5, 0.5, 0.5])},\n",
       "     'definition': {'concentration': {10}, 'trial': {0, 1}}},\n",
       " 1: {'data': {'x': array([2, 2, 2])},\n",
       "     'definition': {'concentration': {20}, 'trial': {0}}}}"
      ]
     },
     "execution_count": 13,
     "metadata": {},
     "output_type": "execute_result"
    }
   ],
   "source": [
    "# average across trials (default behavior)\n",
    "grouped_data.mean(across_trials=True)"
   ]
  },
  {
   "cell_type": "code",
   "execution_count": 14,
   "id": "bd2c9b5b",
   "metadata": {},
   "outputs": [
    {
     "data": {
      "text/plain": [
       "{0: {'data': {'x': array([[0.],\n",
       "       [1.]])},\n",
       "     'definition': {'concentration': {10}, 'trial': {0, 1}}},\n",
       " 1: {'data': {'x': 2.0}, 'definition': {'concentration': {20}, 'trial': {0}}}}"
      ]
     },
     "execution_count": 14,
     "metadata": {},
     "output_type": "execute_result"
    }
   ],
   "source": [
    "# average with trials\n",
    "grouped_data.mean(across_trials=False)"
   ]
  },
  {
   "cell_type": "markdown",
   "id": "70b6ee14",
   "metadata": {},
   "source": [
    "#### `.apply` on grouped data\n",
    "\n",
    "The default behavior appears identical to before. Each trial, *i.e.,* each data array in the data stack will be operated on independent of the other data arrays with which it is grouped"
   ]
  },
  {
   "cell_type": "code",
   "execution_count": 29,
   "id": "3eba7c38",
   "metadata": {},
   "outputs": [],
   "source": [
    "# define a function to add 0.5 to 'x'\n",
    "def add(data_dict):\n",
    "    return {'x':data_dict['x']+0.5}"
   ]
  },
  {
   "cell_type": "code",
   "execution_count": 30,
   "id": "7411345c",
   "metadata": {},
   "outputs": [
    {
     "data": {
      "text/plain": [
       "<AxesSubplot:>"
      ]
     },
     "execution_count": 30,
     "metadata": {},
     "output_type": "execute_result"
    },
    {
     "data": {
      "image/png": "[encoded data removed]",
      "text/plain": [
       "<Figure size 432x288 with 1 Axes>"
      ]
     },
     "metadata": {
      "needs_background": "light"
     },
     "output_type": "display_data"
    }
   ],
   "source": [
    "# plot before .apply(add)\n",
    "fig, ax = grouped_data.plot(linewidth=3)\n",
    "\n",
    "# plot dashed line after add\n",
    "grouped_data.apply(add).plot(linestyle='dashed', linewidth=3, ax=ax)\n",
    "\n",
    "from ekpy.analysis import plotting\n",
    "plotting.add_legend_element(ax, 'after add', color='black', linestyle='dashed')"
   ]
  },
  {
   "cell_type": "markdown",
   "id": "15f44bef",
   "metadata": {},
   "source": [
    "If one wishes to operate on a grouped data stack, and do so on the entire stack at once (as opposed to operating on each \"row\" in the stack sequentiall), this can be achieved by using \n",
    "\n",
    "```python\n",
    "data.apply(<some function>, pass_trials_iteratively=False) \n",
    "```"
   ]
  }
 ],
 "metadata": {
  "kernelspec": {
   "display_name": "Python 3",
   "language": "python",
   "name": "python3"
  },
  "language_info": {
   "codemirror_mode": {
    "name": "ipython",
    "version": 3
   },
   "file_extension": ".py",
   "mimetype": "text/x-python",
   "name": "python",
   "nbconvert_exporter": "python",
   "pygments_lexer": "ipython3",
   "version": "3.8.5"
  }
 },
 "nbformat": 4,
 "nbformat_minor": 5
}
